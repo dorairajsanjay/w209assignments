{
 "cells": [
  {
   "cell_type": "code",
   "execution_count": null,
   "metadata": {},
   "outputs": [],
   "source": [
    "import pandas as pd\n",
    "\n",
    "nodes = pd.read_csv(\"nodes.csv\")\n",
    "edges = pd.read_csv(\"edges.csv\")"
   ]
  },
  {
   "cell_type": "code",
   "execution_count": 142,
   "metadata": {},
   "outputs": [],
   "source": [
    "# create a new edges dataframe that maps from genes to genes \n",
    "# with weights corresponding to the number of shared disorders\n",
    "\n",
    "# clear the new edges dataframe\n",
    "edges_new=edges.iloc[0:0]\n",
    "\n",
    "# create a dictionary of disorders and a dictionary of genes\n",
    "nodes_dict = {}\n",
    "\n",
    "for index,row in nodes.iterrows():\n",
    "\n",
    "    nodes_dict[row[0]]=(row[1],row[2],row[3],[])\n",
    "\n",
    "# iterate the edges table and populate the new edges \n",
    "for index,row in edges.iterrows():\n",
    "    # look at each disorder node and generate a list genes associated with that node\n",
    "    if nodes_dict[row[0]][1] == \"disease\" and row[1] >=1329:\n",
    "        nodes_dict[row[0]][3].append(row[1])\n",
    "        \n",
    "    if nodes_dict[row[1]][1] == \"gene\": #and row[0] <1329:\n",
    "        nodes_dict[row[1]][3].append(row[0])\n",
    "        \n"
   ]
  },
  {
   "cell_type": "code",
   "execution_count": 143,
   "metadata": {
    "collapsed": true
   },
   "outputs": [],
   "source": [
    "# create a table for looking at disorder-disorder network and \n",
    "# another for the gene-gene network\n",
    "\n",
    "disorders_df = nodes.loc[(nodes.type == \"disease\")]\n",
    "genes_df = nodes.loc[(nodes.type == \"gene\")]"
   ]
  },
  {
   "cell_type": "code",
   "execution_count": 144,
   "metadata": {},
   "outputs": [],
   "source": [
    "# create disorders edges table\n",
    "\n",
    "# set weights betweens disorders\n",
    "count_i = 0\n",
    "count_j = 0\n",
    "\n",
    "source = []\n",
    "target = []\n",
    "weight = []\n",
    "edges_id = []\n",
    "directed = []\n",
    "edges_count = 0\n",
    "for i in range(len(disorders_df)):\n",
    "    for j in range(i+1,len(disorders_df)):\n",
    "        \n",
    "        #print disorders_df['Id']\n",
    "        list1 = nodes_dict[disorders_df['Id'][i]][3]\n",
    "        list2 = nodes_dict[disorders_df['Id'][j]][3]\n",
    "        common_list = list(set(list1).intersection(list2))\n",
    "        \n",
    "        if len(common_list) > 0:\n",
    "            source.append(disorders_df['Id'][i])\n",
    "            target.append(disorders_df['Id'][j])\n",
    "            weight.append(len(common_list))\n",
    "            edges_id.append(edges_count)\n",
    "            directed.append(\"Directed\")\n",
    "            \n",
    "            edges_count+=1\n",
    "            \n",
    "            \n",
    "# create a dataframe and write to CSV\n",
    "\n",
    "disorders_edges = pd.DataFrame({'Source':source,'Target':target,'Weight':weight,'Id':edges_id,'Type':directed})\n",
    "disorders_edges.to_csv('disorders_edges.csv',index=False)\n",
    "    "
   ]
  },
  {
   "cell_type": "code",
   "execution_count": 190,
   "metadata": {},
   "outputs": [],
   "source": [
    "# create gene edges table\n",
    "\n",
    "# set weights betweens disorders\n",
    "count_i = 0\n",
    "count_j = 0\n",
    "\n",
    "source = []\n",
    "target = []\n",
    "weight = []\n",
    "edges_id = []\n",
    "directed = []\n",
    "edges_count = 0\n",
    "for i in range(len(genes_df)):\n",
    "    for j in range(i+1,len(genes_df)):\n",
    "             \n",
    "        list1 = nodes_dict[genes_df['Id'].values[i]][3]\n",
    "        list2 = nodes_dict[genes_df['Id'].values[j]][3]\n",
    "        common_list = list(set(list1).intersection(list2))\n",
    "        \n",
    "        if len(common_list) > 0:\n",
    "            source.append(genes_df['Id'].values[i])\n",
    "            target.append(genes_df['Id'].values[j])\n",
    "            weight.append(len(common_list))\n",
    "            edges_id.append(edges_count)\n",
    "            directed.append(\"Directed\")\n",
    "            \n",
    "            edges_count+=1\n",
    "            \n",
    "            \n",
    "# create a dataframe and write to CSV\n",
    "\n",
    "genes_edges = pd.DataFrame({'Source':source,'Target':target,'Weight':weight,'Id':edges_id,'Type':directed})\n",
    "genes_edges.to_csv('genes_edges.csv',index=False)\n",
    "    "
   ]
  },
  {
   "cell_type": "code",
   "execution_count": null,
   "metadata": {
    "collapsed": true
   },
   "outputs": [],
   "source": []
  }
 ],
 "metadata": {
  "kernelspec": {
   "display_name": "Python 2",
   "language": "python",
   "name": "python2"
  },
  "language_info": {
   "codemirror_mode": {
    "name": "ipython",
    "version": 2
   },
   "file_extension": ".py",
   "mimetype": "text/x-python",
   "name": "python",
   "nbconvert_exporter": "python",
   "pygments_lexer": "ipython2",
   "version": "2.7.10"
  }
 },
 "nbformat": 4,
 "nbformat_minor": 2
}
