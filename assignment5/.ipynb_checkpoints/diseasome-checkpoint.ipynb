{
 "cells": [
  {
   "cell_type": "code",
   "execution_count": null,
   "metadata": {},
   "outputs": [],
   "source": [
    "import pandas as pd\n",
    "\n",
    "nodes = pd.read_csv(\"nodes.csv\")\n",
    "edges = pd.read_csv(\"edges.csv\")"
   ]
  },
  {
   "cell_type": "code",
   "execution_count": null,
   "metadata": {},
   "outputs": [],
   "source": [
    "# create a new edges dataframe that maps from genes to genes \n",
    "# with weights corresponding to the number of shared disorders\n",
    "\n",
    "# clear the new edges dataframe\n",
    "edges_new=edges.iloc[0:0]\n",
    "\n",
    "# create a dictionary of disorders and a dictionary of genes\n",
    "nodes_dict = {}\n",
    "\n",
    "for index,row in nodes.iterrows():\n",
    "\n",
    "    nodes_dict[row[0]]=(row[1],row[2],row[3],[])\n",
    "\n",
    "# iterate the edges table and populate the new edges \n",
    "for index,row in edges.iterrows():\n",
    "    # look at each disorder node and generate a list genes associated with that node\n",
    "    if nodes_dict[row[0]][1] == \"disease\" and row[1] >=1329:\n",
    "        nodes_dict[row[0]][3].append(row[1])\n",
    "        \n",
    "    if nodes_dict[row[1]][1] == \"gene\": #and row[0] <1329:\n",
    "        nodes_dict[row[1]][3].append(row[0])\n",
    "        \n"
   ]
  },
  {
   "cell_type": "code",
   "execution_count": 135,
   "metadata": {},
   "outputs": [],
   "source": [
    "# create a table for looking at disorder-disorder network and \n",
    "# another for the gene-gene network\n",
    "\n",
    "disorders_df = nodes.loc[(nodes.type == \"disease\")]\n",
    "genes_df = nodes.loc[(nodes.type == \"gene\")]\n",
    "\n",
    "# set weights betweens disorders\n",
    "count_i = 0\n",
    "count_j = 0\n",
    "\n",
    "source = []\n",
    "target = []\n",
    "weight = []\n",
    "edges_id = []\n",
    "directed = []\n",
    "edges_count = 0\n",
    "for i in range(len(disorders_df)):\n",
    "    for j in range(i+1,len(disorders_df)):\n",
    "        \n",
    "        #print disorders_df['Id']\n",
    "        list1 = nodes_dict[disorders_df['Id'][i]][3]\n",
    "        list2 = nodes_dict[disorders_df['Id'][j]][3]\n",
    "        common_list = list(set(list1).intersection(list2))\n",
    "        \n",
    "        if len(common_list) > 0:\n",
    "            source.append(disorders_df['Id'][i])\n",
    "            target.append(disorders_df['Id'][j])\n",
    "            weight.append(len(common_list))\n",
    "            edges_id.append(edges_count)\n",
    "            directed.append(\"Directed\")\n",
    "            \n",
    "            edges_count+=1\n",
    "            \n",
    "            \n",
    "# create a dataframe and write to CSV\n",
    "\n",
    "disorders_edges = pd.DataFrame({'Source':source,'Target':target,'Weight':weight,'Id':edges_id,'Type':directed})\n",
    "disorders_edges.to_csv('disorders_edges.csv',index=False)\n",
    "    "
   ]
  },
  {
   "cell_type": "code",
   "execution_count": 133,
   "metadata": {},
   "outputs": [
    {
     "name": "stdout",
     "output_type": "stream",
     "text": [
      "        Id  Source  Target      Type  Weight\n",
      "0        0      30      65  Directed       1\n",
      "1        1      30      80  Directed       1\n",
      "2        2      30      87  Directed       1\n",
      "3        3      30      99  Directed       2\n",
      "4        4      30     120  Directed       1\n",
      "5        5      30     128  Directed       1\n",
      "6        6      30     129  Directed       1\n",
      "7        7      30     130  Directed       1\n",
      "8        8      30     365  Directed       1\n",
      "9        9      30     366  Directed       1\n",
      "10      10      30     751  Directed       1\n",
      "11      11      30     792  Directed       1\n",
      "12      12      30     841  Directed       1\n",
      "13      13      30     842  Directed       1\n",
      "14      14      30     935  Directed       1\n",
      "15      15      36      37  Directed       1\n",
      "16      16      36      38  Directed       1\n",
      "17      17      36      39  Directed       1\n",
      "18      18      37      38  Directed       1\n",
      "19      19      37      39  Directed       1\n",
      "20      20      38      39  Directed       1\n",
      "21      21      38     158  Directed       1\n",
      "22      22      38     434  Directed       1\n",
      "23      23      41     109  Directed       1\n",
      "24      24      41     429  Directed       1\n",
      "25      25      41     962  Directed       1\n",
      "26      26      42      43  Directed       1\n",
      "27      27      42      44  Directed       1\n",
      "28      28      42      45  Directed       4\n",
      "29      29      42      46  Directed       1\n",
      "...    ...     ...     ...       ...     ...\n",
      "1158  1158    1065    1069  Directed       1\n",
      "1159  1159    1065    1070  Directed       1\n",
      "1160  1160    1066    1067  Directed       1\n",
      "1161  1161    1066    1068  Directed       1\n",
      "1162  1162    1066    1069  Directed       1\n",
      "1163  1163    1066    1070  Directed       1\n",
      "1164  1164    1067    1068  Directed       1\n",
      "1165  1165    1067    1069  Directed       1\n",
      "1166  1166    1067    1070  Directed       2\n",
      "1167  1167    1068    1069  Directed       1\n",
      "1168  1168    1068    1070  Directed       1\n",
      "1169  1169    1069    1070  Directed       1\n",
      "1170  1170    1072    1073  Directed       1\n",
      "1171  1171    1080    1081  Directed       1\n",
      "1172  1172    1080    1082  Directed       1\n",
      "1173  1173    1081    1082  Directed       1\n",
      "1174  1174    1091    1092  Directed       1\n",
      "1175  1175    1099    1100  Directed       1\n",
      "1176  1176    1099    1101  Directed       1\n",
      "1177  1177    1099    1102  Directed       1\n",
      "1178  1178    1100    1101  Directed       1\n",
      "1179  1179    1100    1102  Directed       1\n",
      "1180  1180    1101    1102  Directed       1\n",
      "1181  1181    1120    1121  Directed       1\n",
      "1182  1182    1152    1153  Directed       1\n",
      "1183  1183    1227    1228  Directed       1\n",
      "1184  1184    1303    1304  Directed       1\n",
      "1185  1185    1303    1305  Directed       1\n",
      "1186  1186    1304    1305  Directed       1\n",
      "1187  1187    1306    1307  Directed       1\n",
      "\n",
      "[1188 rows x 5 columns]\n"
     ]
    }
   ],
   "source": [
    "print disorders_edges"
   ]
  },
  {
   "cell_type": "code",
   "execution_count": 104,
   "metadata": {},
   "outputs": [
    {
     "name": "stdout",
     "output_type": "stream",
     "text": [
      "30\n"
     ]
    }
   ],
   "source": [
    "print disorders_df['Id'][0]"
   ]
  },
  {
   "cell_type": "code",
   "execution_count": null,
   "metadata": {
    "collapsed": true
   },
   "outputs": [],
   "source": []
  }
 ],
 "metadata": {
  "kernelspec": {
   "display_name": "Python 2",
   "language": "python",
   "name": "python2"
  },
  "language_info": {
   "codemirror_mode": {
    "name": "ipython",
    "version": 2
   },
   "file_extension": ".py",
   "mimetype": "text/x-python",
   "name": "python",
   "nbconvert_exporter": "python",
   "pygments_lexer": "ipython2",
   "version": "2.7.10"
  }
 },
 "nbformat": 4,
 "nbformat_minor": 2
}
